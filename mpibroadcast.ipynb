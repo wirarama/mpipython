{
 "cells": [
  {
   "cell_type": "code",
   "execution_count": 1,
   "metadata": {},
   "outputs": [
    {
     "name": "stdout",
     "output_type": "stream",
     "text": [
      "rank 0 data :  45\n",
      "rank 1 data :  45\n",
      "rank 2 data :  45\n",
      "rank 8 data :  45\n",
      "rank 3 data :  45\n",
      "rank 9 data :  45\n",
      "rank 4 data :  45\n",
      "rank 6 data :  45\n",
      "rank 5 data :  45\n",
      "rank 7 data :  45\n"
     ]
    }
   ],
   "source": [
    "!mpiexec -n 10 ~/anaconda3/bin/python bcast-simple.py"
   ]
  },
  {
   "cell_type": "code",
   "execution_count": 4,
   "metadata": {},
   "outputs": [
    {
     "name": "stdout",
     "output_type": "stream",
     "text": [
      "rank 1 data :  45\n",
      "rank 2 data :  45\n",
      "rank 3 data :  45\n",
      "rank 0 data :  45\n",
      "rank 8 data :  45\n",
      "rank 4 data :  45\n",
      "rank 5 data :  45\n",
      "rank 9 data :  45\n",
      "rank 6 data :  45\n",
      "rank 7 data :  45\n"
     ]
    }
   ],
   "source": [
    "!mpiexec -n 10 ~/anaconda3/bin/python bcast.py"
   ]
  },
  {
   "cell_type": "code",
   "execution_count": 2,
   "metadata": {},
   "outputs": [
    {
     "name": "stdout",
     "output_type": "stream",
     "text": [
      "rank 0 data :  45\r\n",
      "rank 1 data :  17\r\n",
      "rank 2 data :  45\r\n",
      "rank 4 data :  45\r\n",
      "rank 5 data :  17\r\n",
      "rank 6 data :  45\r\n",
      "rank 7 data :  17\r\n",
      "rank 3 data :  17\r\n",
      "rank 8 data :  45\r\n",
      "rank 9 data :  17\r\n"
     ]
    }
   ],
   "source": [
    "!mpiexec -n 10 ~/anaconda3/bin/python bcast-fix.py"
   ]
  },
  {
   "cell_type": "code",
   "execution_count": 5,
   "metadata": {},
   "outputs": [
    {
     "name": "stdout",
     "output_type": "stream",
     "text": [
      "rank 0 data :  45\n",
      "rank 4 data :  45\n",
      "rank 1 data :  45\n",
      "rank 5 data :  45\n",
      "rank 2 data :  45\n",
      "rank 3 data :  45\n",
      "rank 6 data :  45\n",
      "rank 7 data :  45\n",
      "rank 8 data :  45\n",
      "rank 9 data :  45\n"
     ]
    }
   ],
   "source": [
    "!mpiexec -n 10 ~/anaconda3/bin/python bcast-selected.py"
   ]
  },
  {
   "cell_type": "code",
   "execution_count": 3,
   "metadata": {},
   "outputs": [
    {
     "name": "stdout",
     "output_type": "stream",
     "text": [
      "rank 0 data :  45\r\n",
      "rank 2 data :  45\r\n",
      "rank 3 data :  45\r\n",
      "rank 8 data :  17\r\n",
      "rank 4 data :  8\r\n",
      "rank 1 data :  45\r\n",
      "rank 9 data :  17\r\n",
      "rank 5 data :  8\r\n",
      "rank 6 data :  8\r\n",
      "rank 7 data :  8\r\n"
     ]
    }
   ],
   "source": [
    "!mpiexec -n 10 ~/anaconda3/bin/python bcast-selected-fix.py"
   ]
  },
  {
   "cell_type": "code",
   "execution_count": 6,
   "metadata": {},
   "outputs": [
    {
     "name": "stdout",
     "output_type": "stream",
     "text": [
      "Rank 1 lapor : Isi kata kunci \r\n",
      "Session 2 Rank 1 lapor : Isi minyak goreng 2kg \r\n",
      "Rank 2 lapor : Isi kata kunci \r\n",
      "Session 2 Rank 2 lapor : Isi minyak goreng 2kg \r\n",
      "Rank 3 lapor : Isi kata kunci \r\n",
      "Session 2 Rank 3 lapor : Isi minyak goreng 2kg \r\n",
      "Rank 4 lapor : Isi kata kunci \r\n",
      "Session 2 Rank 4 lapor : Isi minyak goreng 2kg \r\n",
      "Rank 5 lapor : Isi kata kunci \r\n",
      "Session 2 Rank 5 lapor : Isi minyak goreng 2kg \r\n",
      "Rank 6 lapor : Isi kata kunci \r\n",
      "Session 2 Rank 6 lapor : Isi minyak goreng 2kg \r\n",
      "Rank 7 lapor : Isi kata kunci \r\n",
      "Session 2 Rank 7 lapor : Isi minyak goreng 2kg \r\n",
      "Rank 8 lapor : Isi kata kunci \r\n",
      "Session 2 Rank 8 lapor : Isi minyak goreng 2kg \r\n",
      "Rank 9 lapor : Isi kata kunci \r\n",
      "Session 2 Rank 9 lapor : Isi minyak goreng 2kg \r\n"
     ]
    }
   ],
   "source": [
    "!mpiexec -n 10 ~/anaconda3/bin/python bcastmanual.py"
   ]
  },
  {
   "cell_type": "code",
   "execution_count": 7,
   "metadata": {},
   "outputs": [
    {
     "name": "stdout",
     "output_type": "stream",
     "text": [
      "0 mengirim ke 1, 2, 4\r\n",
      "1 menerima dari 0\r\n",
      "1 mengirim ke 3 dan 5\r\n",
      "2 menerima dari 0\r\n",
      "2 mengirim ke 6\r\n",
      "3 menerima dari 1\r\n",
      "3 mengirim ke 7\r\n",
      "4 menerima dari 0\r\n",
      "5 menerima dari 1\r\n",
      "6 menerima dari 2\r\n",
      "7 menerima dari 3\r\n"
     ]
    }
   ],
   "source": [
    "!mpiexec -n 8 ~/anaconda3/bin/python bcasttree.py"
   ]
  },
  {
   "cell_type": "code",
   "execution_count": null,
   "metadata": {},
   "outputs": [],
   "source": []
  }
 ],
 "metadata": {
  "kernelspec": {
   "display_name": "Python 3",
   "language": "python",
   "name": "python3"
  },
  "language_info": {
   "codemirror_mode": {
    "name": "ipython",
    "version": 3
   },
   "file_extension": ".py",
   "mimetype": "text/x-python",
   "name": "python",
   "nbconvert_exporter": "python",
   "pygments_lexer": "ipython3",
   "version": "3.7.3"
  }
 },
 "nbformat": 4,
 "nbformat_minor": 2
}

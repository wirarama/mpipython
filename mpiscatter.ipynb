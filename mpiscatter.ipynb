{
 "cells": [
  {
   "cell_type": "code",
   "execution_count": 8,
   "metadata": {},
   "outputs": [
    {
     "name": "stdout",
     "output_type": "stream",
     "text": [
      "rank 0 data :  3\n",
      "rank 1 data :  [4, 3, 6]\n",
      "rank 2 data :  1.6379\n",
      "rank 3 data :  beda sendiri\n"
     ]
    }
   ],
   "source": [
    "!mpiexec -n 4 python scatter-simple.py"
   ]
  },
  {
   "cell_type": "code",
   "execution_count": 15,
   "metadata": {},
   "outputs": [
    {
     "name": "stdout",
     "output_type": "stream",
     "text": [
      "pembaginya terlalu besar boss\n"
     ]
    }
   ],
   "source": [
    "!mpiexec -n 32 python scatter-bagi-ga-lebih.py"
   ]
  },
  {
   "cell_type": "code",
   "execution_count": 23,
   "metadata": {},
   "outputs": [
    {
     "name": "stdout",
     "output_type": "stream",
     "text": [
      "rank 2 data yaitu :  24,26,28,30,32,34,\n",
      "rank 1 data yaitu :  12,13,14,15,16,17,18,19,20,21,22,23,\n",
      "rank 3 data yaitu :  36,39,42,45,\n",
      "rank 0 data yaitu :  \n",
      "rank 4 data yaitu :  48,52,56,\n",
      "rank 6 data yaitu :  72,78,\n",
      "rank 5 data yaitu :  60,65,70,\n",
      "rank 7 data yaitu :  84,91,\n",
      "rank 8 data yaitu :  96,\n"
     ]
    }
   ],
   "source": [
    "!mpiexec -n 9 python scatterbagikerja.py"
   ]
  },
  {
   "cell_type": "code",
   "execution_count": 12,
   "metadata": {},
   "outputs": [
    {
     "name": "stdout",
     "output_type": "stream",
     "text": [
      "rank 1 data :  [1]\n",
      "rank 16 data :  [16]\n",
      "rank 17 data :  [17]\n",
      "rank 8 data :  [8]\n",
      "rank 9 data :  [9]\n",
      "rank 32 data :  [32]\n",
      "rank 10 data :  [10]\n",
      "rank 11 data :  [11]\n",
      "rank 2 data :  [2]\n",
      "rank 34 data :  [34]\n",
      "rank 24 data :  [24]\n",
      "rank 33 data :  [33]\n",
      "rank 3 data :  [3]\n",
      "rank 18 data :  [18]\n",
      "rank 25 data :  [25]\n",
      "rank 35 data :  [35]\n",
      "rank 4 data :  [4]\n",
      "rank 19 data :  [19]\n",
      "rank 36 data :  [36]\n",
      "rank 37 data :  [37]\n",
      "rank 12 data :  [12]\n",
      "rank 5 data :  [5]\n",
      "rank 38 data :  [38]\n",
      "rank 13 data :  [13]\n",
      "rank 6 data :  [6]\n",
      "rank 14 data :  [14]\n",
      "rank 39 data :  [39]\n",
      "rank 20 data :  [20]\n",
      "rank 40 data :  [40]\n",
      "rank 7 data :  [7]\n",
      "rank 15 data :  [15]\n",
      "rank 41 data :  [41]\n",
      "rank 21 data :  [21]\n",
      "rank 42 data :  [42]\n",
      "rank 22 data :  [22]\n",
      "rank 43 data :  [43]\n",
      "rank 23 data :  [23]\n",
      "rank 48 data :  [48]\n",
      "rank 49 data :  [49]\n",
      "rank 28 data :  [28]\n",
      "rank 50 data :  [50]\n",
      "rank 30 data :  [30]\n",
      "rank 29 data :  [29]\n",
      "rank 51 data :  [51]\n",
      "rank 52 data :  [52]\n",
      "rank 26 data :  [26]\n",
      "rank 44 data :  [44]\n",
      "rank 53 data :  [53]\n",
      "rank 31 data :  [31]\n",
      "rank 45 data :  [45]\n",
      "rank 27 data :  [27]\n",
      "rank 54 data :  [54]\n",
      "rank 46 data :  [46]\n",
      "rank 55 data :  [55]\n",
      "rank 56 data :  [56]\n",
      "rank 47 data :  [47]\n",
      "rank 57 data :  [57]\n",
      "rank 58 data :  [58]\n",
      "rank 59 data :  [59]\n",
      "rank 60 data :  [60]\n",
      "rank 61 data :  [61]\n",
      "rank 62 data :  [62]\n",
      "rank 64 data :  [64]\n",
      "rank 63 data :  [63]\n",
      "rank 65 data :  [65]\n",
      "rank 66 data :  [66]\n",
      "rank 67 data :  [67]\n",
      "rank 68 data :  [68]\n",
      "rank 69 data :  [69]\n",
      "rank 70 data :  [70]\n",
      "rank 71 data :  [71]\n",
      "rank 72 data :  [72]\n",
      "rank 73 data :  [73]\n",
      "rank 74 data :  [74]\n",
      "rank 75 data :  [75]\n",
      "rank 76 data :  [76]\n",
      "rank 77 data :  [77]\n",
      "rank 78 data :  [78]\n",
      "rank 79 data :  [79]\n",
      "rank 80 data :  [80]\n",
      "rank 81 data :  [81]\n",
      "rank 82 data :  [82]\n",
      "rank 83 data :  [83]\n",
      "rank 84 data :  [84]\n",
      "rank 85 data :  [85]\n",
      "rank 86 data :  [86]\n",
      "rank 87 data :  [87]\n",
      "rank 88 data :  [88]\n",
      "rank 89 data :  [89]\n",
      "rank 90 data :  [90]\n",
      "rank 91 data :  [91]\n",
      "rank 92 data :  [92]\n",
      "rank 93 data :  [93]\n",
      "rank 94 data :  [94]\n",
      "rank 95 data :  [95]\n",
      "rank 96 data :  [96]\n",
      "rank 97 data :  [97]\n",
      "rank 98 data :  [98]\n",
      "rank 0 data :  [0]\n",
      "rank 99 data :  [99]\n"
     ]
    }
   ],
   "source": [
    "!mpiexec -n 100 python scatter-split.py"
   ]
  },
  {
   "cell_type": "code",
   "execution_count": 14,
   "metadata": {},
   "outputs": [
    {
     "name": "stdout",
     "output_type": "stream",
     "text": [
      "rank 0 menerima [0 0 0 0 0 0 0 0 0 0] \n",
      "rank 1 menerima [1 1 1 1 1 1 1 1 1 1] \n",
      "rank 4 menerima [4 4 4 4 4 4 4 4 4 4] \n",
      "rank 6 menerima [6 6 6 6 6 6 6 6 6 6] \n",
      "rank 5 menerima [5 5 5 5 5 5 5 5 5 5] \n",
      "rank 2 menerima [2 2 2 2 2 2 2 2 2 2] \n",
      "rank 3 menerima [3 3 3 3 3 3 3 3 3 3] \n"
     ]
    }
   ],
   "source": [
    "!mpiexec -n 7 ~/anaconda3/bin/python scatternumpy.py"
   ]
  },
  {
   "cell_type": "code",
   "execution_count": 15,
   "metadata": {},
   "outputs": [
    {
     "name": "stdout",
     "output_type": "stream",
     "text": [
      "rank 1 data :  [15, 17, 19, 21, 23, 25, 27, 29]\n",
      "rank 4 data :  [60, 62, 64, 66, 68, 70, 72, 74]\n",
      "rank 2 data :  [30, 32, 34, 36, 38, 40, 42, 44]\n",
      "7 [[0, 2, 4, 6, 8, 10, 12, 14], [15, 17, 19, 21, 23, 25, 27, 29], [30, 32, 34, 36, 38, 40, 42, 44], [45, 47, 49, 51, 53, 55, 57, 59], [60, 62, 64, 66, 68, 70, 72, 74], [75, 77, 79, 81, 83, 85, 87, 89], [90, 92, 94, 96, 98]]\n",
      "rank 0 data :  [0, 2, 4, 6, 8, 10, 12, 14]\n",
      "rank 5 data :  [75, 77, 79, 81, 83, 85, 87, 89]\n",
      "rank 3 data :  [45, 47, 49, 51, 53, 55, 57, 59]\n",
      "rank 6 data :  [90, 92, 94, 96, 98]\n"
     ]
    }
   ],
   "source": [
    "!mpiexec -n 7 python scattereveodd.py"
   ]
  },
  {
   "cell_type": "code",
   "execution_count": 16,
   "metadata": {},
   "outputs": [
    {
     "name": "stdout",
     "output_type": "stream",
     "text": [
      "1 [[0, 2, 4, 6, 8, 10, 12, 14, 16, 18, 20, 22, 24, 26, 28, 30, 32, 34, 36, 38, 40, 42, 44, 46, 48, 50, 52, 54, 56, 58, 60, 62, 64, 66, 68, 70, 72, 74, 76, 78, 80, 82, 84, 86, 88, 90, 92, 94, 96, 98]]\n",
      "rank 0 data :  [0, 2, 4, 6, 8, 10, 12, 14, 16, 18, 20, 22, 24, 26, 28, 30, 32, 34, 36, 38, 40, 42, 44, 46, 48, 50, 52, 54, 56, 58, 60, 62, 64, 66, 68, 70, 72, 74, 76, 78, 80, 82, 84, 86, 88, 90, 92, 94, 96, 98]\n"
     ]
    }
   ],
   "source": [
    "!python scattereveodd.py"
   ]
  },
  {
   "cell_type": "code",
   "execution_count": null,
   "metadata": {},
   "outputs": [],
   "source": []
  }
 ],
 "metadata": {
  "kernelspec": {
   "display_name": "Python 3 (ipykernel)",
   "language": "python",
   "name": "python3"
  },
  "language_info": {
   "codemirror_mode": {
    "name": "ipython",
    "version": 3
   },
   "file_extension": ".py",
   "mimetype": "text/x-python",
   "name": "python",
   "nbconvert_exporter": "python",
   "pygments_lexer": "ipython3",
   "version": "3.11.4"
  }
 },
 "nbformat": 4,
 "nbformat_minor": 2
}

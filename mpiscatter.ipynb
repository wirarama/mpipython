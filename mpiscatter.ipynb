{
 "cells": [
  {
   "cell_type": "code",
   "execution_count": 8,
   "metadata": {},
   "outputs": [
    {
     "name": "stdout",
     "output_type": "stream",
     "text": [
      "rank 0 data :  3\n",
      "rank 1 data :  [4, 3, 6]\n",
      "rank 2 data :  1.6379\n",
      "rank 3 data :  beda sendiri\n"
     ]
    }
   ],
   "source": [
    "!mpiexec -n 4 python scatter-simple.py"
   ]
  },
  {
   "cell_type": "code",
   "execution_count": 13,
   "metadata": {},
   "outputs": [
    {
     "name": "stdout",
     "output_type": "stream",
     "text": [
      "rank 2 data :  [24, 25, 26, 27, 28, 29, 30, 31, 32, 33, 34, 35]\n",
      "rank 0 data :  [0, 1, 2, 3, 4, 5, 6, 7, 8, 9, 10, 11]\n",
      "rank 3 data :  [36, 37, 38, 39, 40, 41, 42, 43, 44, 45, 46, 47]\n",
      "rank 1 data :  [12, 13, 14, 15, 16, 17, 18, 19, 20, 21, 22, 23]\n",
      "rank 4 data :  [48, 49, 50, 51, 52, 53, 54, 55, 56, 57, 58, 59]\n",
      "rank 5 data :  [60, 61, 62, 63, 64, 65, 66, 67, 68, 69, 70, 71]\n",
      "rank 6 data :  [72, 73, 74, 75, 76, 77, 78, 79, 80, 81, 82, 83]\n",
      "rank 7 data :  [84, 85, 86, 87, 88, 89, 90, 91, 92, 93, 94, 95]\n",
      "rank 8 data :  [96, 97, 98, 99]\n"
     ]
    }
   ],
   "source": [
    "!mpiexec -n 9 ~/anaconda3/bin/python scatterbagikerja.py"
   ]
  },
  {
   "cell_type": "code",
   "execution_count": 12,
   "metadata": {},
   "outputs": [
    {
     "name": "stdout",
     "output_type": "stream",
     "text": [
      "rank 4 data :  [45 46 47 48 49 50 51 52 53 54 55]\n",
      "rank 1 data :  [12 13 14 15 16 17 18 19 20 21 22]\n",
      "rank 0 data :  [ 0  1  2  3  4  5  6  7  8  9 10 11]\n",
      "rank 8 data :  [89 90 91 92 93 94 95 96 97 98 99]\n",
      "rank 5 data :  [56 57 58 59 60 61 62 63 64 65 66]\n",
      "rank 6 data :  [67 68 69 70 71 72 73 74 75 76 77]\n",
      "rank 2 data :  [23 24 25 26 27 28 29 30 31 32 33]\n",
      "rank 3 data :  [34 35 36 37 38 39 40 41 42 43 44]\n",
      "rank 7 data :  [78 79 80 81 82 83 84 85 86 87 88]\n"
     ]
    }
   ],
   "source": [
    "!mpiexec -n 9 ~/anaconda3/bin/python scatter-split.py"
   ]
  },
  {
   "cell_type": "code",
   "execution_count": 14,
   "metadata": {},
   "outputs": [
    {
     "name": "stdout",
     "output_type": "stream",
     "text": [
      "rank 0 menerima [0 0 0 0 0 0 0 0 0 0] \n",
      "rank 1 menerima [1 1 1 1 1 1 1 1 1 1] \n",
      "rank 4 menerima [4 4 4 4 4 4 4 4 4 4] \n",
      "rank 6 menerima [6 6 6 6 6 6 6 6 6 6] \n",
      "rank 5 menerima [5 5 5 5 5 5 5 5 5 5] \n",
      "rank 2 menerima [2 2 2 2 2 2 2 2 2 2] \n",
      "rank 3 menerima [3 3 3 3 3 3 3 3 3 3] \n"
     ]
    }
   ],
   "source": [
    "!mpiexec -n 7 ~/anaconda3/bin/python scatternumpy.py"
   ]
  },
  {
   "cell_type": "code",
   "execution_count": 15,
   "metadata": {},
   "outputs": [
    {
     "name": "stdout",
     "output_type": "stream",
     "text": [
      "rank 1 data :  [15, 17, 19, 21, 23, 25, 27, 29]\n",
      "rank 4 data :  [60, 62, 64, 66, 68, 70, 72, 74]\n",
      "rank 2 data :  [30, 32, 34, 36, 38, 40, 42, 44]\n",
      "7 [[0, 2, 4, 6, 8, 10, 12, 14], [15, 17, 19, 21, 23, 25, 27, 29], [30, 32, 34, 36, 38, 40, 42, 44], [45, 47, 49, 51, 53, 55, 57, 59], [60, 62, 64, 66, 68, 70, 72, 74], [75, 77, 79, 81, 83, 85, 87, 89], [90, 92, 94, 96, 98]]\n",
      "rank 0 data :  [0, 2, 4, 6, 8, 10, 12, 14]\n",
      "rank 5 data :  [75, 77, 79, 81, 83, 85, 87, 89]\n",
      "rank 3 data :  [45, 47, 49, 51, 53, 55, 57, 59]\n",
      "rank 6 data :  [90, 92, 94, 96, 98]\n"
     ]
    }
   ],
   "source": [
    "!mpiexec -n 7 python scattereveodd.py"
   ]
  },
  {
   "cell_type": "code",
   "execution_count": 16,
   "metadata": {},
   "outputs": [
    {
     "name": "stdout",
     "output_type": "stream",
     "text": [
      "1 [[0, 2, 4, 6, 8, 10, 12, 14, 16, 18, 20, 22, 24, 26, 28, 30, 32, 34, 36, 38, 40, 42, 44, 46, 48, 50, 52, 54, 56, 58, 60, 62, 64, 66, 68, 70, 72, 74, 76, 78, 80, 82, 84, 86, 88, 90, 92, 94, 96, 98]]\n",
      "rank 0 data :  [0, 2, 4, 6, 8, 10, 12, 14, 16, 18, 20, 22, 24, 26, 28, 30, 32, 34, 36, 38, 40, 42, 44, 46, 48, 50, 52, 54, 56, 58, 60, 62, 64, 66, 68, 70, 72, 74, 76, 78, 80, 82, 84, 86, 88, 90, 92, 94, 96, 98]\n"
     ]
    }
   ],
   "source": [
    "!python scattereveodd.py"
   ]
  },
  {
   "cell_type": "code",
   "execution_count": null,
   "metadata": {},
   "outputs": [],
   "source": []
  }
 ],
 "metadata": {
  "kernelspec": {
   "display_name": "Python 3 (ipykernel)",
   "language": "python",
   "name": "python3"
  },
  "language_info": {
   "codemirror_mode": {
    "name": "ipython",
    "version": 3
   },
   "file_extension": ".py",
   "mimetype": "text/x-python",
   "name": "python",
   "nbconvert_exporter": "python",
   "pygments_lexer": "ipython3",
   "version": "3.11.4"
  }
 },
 "nbformat": 4,
 "nbformat_minor": 2
}

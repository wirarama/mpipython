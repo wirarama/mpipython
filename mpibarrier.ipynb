{
 "cells": [
  {
   "cell_type": "code",
   "execution_count": 3,
   "metadata": {},
   "outputs": [
    {
     "name": "stdout",
     "output_type": "stream",
     "text": [
      "Session 1 Rank 7 dari 32\n",
      "Session 2 Rank 7 dari 32\n",
      "Session 1 Rank 8 dari 32\n",
      "Session 2 Rank 8 dari 32\n",
      "Session 1 Rank 24 dari 32\n",
      "Session 2 Rank 24 dari 32\n",
      "Session 1 Rank 23 dari 32\n",
      "Session 2 Rank 23 dari 32\n",
      "Session 1 Rank 11 dari 32\n",
      "Session 2 Rank 11 dari 32\n",
      "Session 1 Rank 12 dari 32\n",
      "Session 2 Rank 12 dari 32\n",
      "Session 1 Rank 15 dari 32\n",
      "Session 2 Rank 15 dari 32\n",
      "Session 1 Rank 16 dari 32\n",
      "Session 2 Rank 16 dari 32\n",
      "Session 1 Rank 20 dari 32\n",
      "Session 2 Rank 20 dari 32\n",
      "Session 1 Rank 19 dari 32\n",
      "Session 2 Rank 19 dari 32\n",
      "Session 1 Rank 27 dari 32\n",
      "Session 2 Rank 27 dari 32\n",
      "Session 1 Rank 28 dari 32\n",
      "Session 2 Rank 28 dari 32\n",
      "Session 1 Rank 31 dari 32\n",
      "Session 2 Rank 31 dari 32\n",
      "Rank 0 Kumpulin data\n",
      "Session 1 Rank 3 dari 32\n",
      "Session 2 Rank 3 dari 32\n",
      "Session 1 Rank 4 dari 32\n",
      "Session 2 Rank 4 dari 32\n",
      "Session 1 Rank 17 dari 32\n",
      "Session 2 Rank 17 dari 32\n",
      "Session 1 Rank 25 dari 32\n",
      "Session 2 Rank 25 dari 32\n",
      "Session 1 Rank 13 dari 32\n",
      "Session 2 Rank 13 dari 32\n",
      "Session 1 Rank 9 dari 32\n",
      "Session 2 Rank 9 dari 32\n",
      "Session 1 Rank 1 dari 32\n",
      "Session 2 Rank 1 dari 32\n",
      "Session 1 Rank 21 dari 32\n",
      "Session 2 Rank 21 dari 32\n",
      "Session 1 Rank 29 dari 32\n",
      "Session 2 Rank 29 dari 32\n",
      "Session 1 Rank 5 dari 32\n",
      "Session 2 Rank 5 dari 32\n",
      "Session 1 Rank 22 dari 32\n",
      "Session 2 Rank 22 dari 32\n",
      "Session 1 Rank 6 dari 32\n",
      "Session 2 Rank 6 dari 32\n",
      "Session 1 Rank 30 dari 32\n",
      "Session 2 Rank 30 dari 32\n",
      "Session 1 Rank 14 dari 32\n",
      "Session 2 Rank 14 dari 32\n",
      "Session 1 Rank 26 dari 32\n",
      "Session 2 Rank 26 dari 32\n",
      "Session 1 Rank 10 dari 32\n",
      "Session 2 Rank 10 dari 32\n",
      "Session 1 Rank 2 dari 32\n",
      "Session 2 Rank 2 dari 32\n",
      "Session 1 Rank 18 dari 32\n",
      "Session 2 Rank 18 dari 32\n"
     ]
    }
   ],
   "source": [
    "!mpiexec -n 32 python barrier.py"
   ]
  },
  {
   "cell_type": "code",
   "execution_count": 5,
   "metadata": {},
   "outputs": [
    {
     "name": "stdout",
     "output_type": "stream",
     "text": [
      "Rank 0 session 1\r\n",
      "Rank 1 session 1\r\n",
      "Rank 3 session 1\r\n",
      "Rank 2 session 1\r\n",
      "Rank 0 session 2\r\n",
      "Rank 2 session 2\r\n",
      "Rank 3 session 2\r\n",
      "Rank 1 session 2\r\n",
      "Rank 0 session 3\r\n",
      "Rank 2 session 3\r\n",
      "Rank 3 session 3\r\n",
      "Rank 1 session 3\r\n"
     ]
    }
   ],
   "source": [
    "!mpiexec -n 4 ~/anaconda3/bin/python barrierev.py"
   ]
  },
  {
   "cell_type": "code",
   "execution_count": 8,
   "metadata": {},
   "outputs": [
    {
     "name": "stdout",
     "output_type": "stream",
     "text": [
      "Rank 0 session 1\r\n",
      "Rank 1 session 1\r\n",
      "Rank 2 session 1\r\n",
      "Rank 3 session 1\r\n",
      "Rank 0 session 2\r\n",
      "Rank 1 session 2\r\n",
      "Rank 2 session 2\r\n",
      "Rank 3 session 2\r\n",
      "Rank 0 session 3\r\n",
      "Rank 1 session 3\r\n",
      "Rank 2 session 3\r\n",
      "Rank 3 session 3\r\n"
     ]
    }
   ],
   "source": [
    "!mpiexec -n 4 ~/anaconda3/bin/python barriernew.py"
   ]
  },
  {
   "cell_type": "code",
   "execution_count": null,
   "metadata": {},
   "outputs": [],
   "source": []
  }
 ],
 "metadata": {
  "kernelspec": {
   "display_name": "Python 3 (ipykernel)",
   "language": "python",
   "name": "python3"
  },
  "language_info": {
   "codemirror_mode": {
    "name": "ipython",
    "version": 3
   },
   "file_extension": ".py",
   "mimetype": "text/x-python",
   "name": "python",
   "nbconvert_exporter": "python",
   "pygments_lexer": "ipython3",
   "version": "3.11.4"
  }
 },
 "nbformat": 4,
 "nbformat_minor": 2
}

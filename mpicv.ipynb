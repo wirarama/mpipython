{
 "cells": [
  {
   "cell_type": "code",
   "execution_count": 1,
   "metadata": {},
   "outputs": [],
   "source": [
    "import os"
   ]
  },
  {
   "cell_type": "code",
   "execution_count": 2,
   "metadata": {},
   "outputs": [
    {
     "name": "stdout",
     "output_type": "stream",
     "text": [
      "/Users/wirarama/python/opencv\n",
      "download (5).jpeg\n",
      "download.jpeg\n",
      "download (7).jpeg\n",
      "download (3).jpeg\n",
      "download (1).jpeg\n",
      "download (6).jpeg\n",
      "download (4).jpeg\n",
      "download (2).jpeg\n",
      "download (8).jpeg\n",
      "download (13).jpeg\n",
      "download (11).jpeg\n",
      ".ipynb_checkpoints\n",
      "download (10).jpeg\n",
      "download (9).jpeg\n",
      "download (12).jpeg\n"
     ]
    }
   ],
   "source": [
    "print(os.getcwd())\n",
    "for filename in os.listdir(os.getcwd()+'/img/'):\n",
    "    print(filename)"
   ]
  },
  {
   "cell_type": "code",
   "execution_count": 3,
   "metadata": {},
   "outputs": [
    {
     "name": "stdout",
     "output_type": "stream",
     "text": [
      "rank 3 memiliki 2 gambar yaitu : ['download (9).jpeg', 'download (12).jpeg']\n",
      "rank 1 memiliki 4 gambar yaitu : ['download (1).jpeg', 'download (6).jpeg', 'download (4).jpeg', 'download (2).jpeg']\n",
      "rank 2 memiliki 4 gambar yaitu : ['download (8).jpeg', 'download (13).jpeg', 'download (11).jpeg', 'download (10).jpeg']\n",
      "rank 0 memiliki 4 gambar yaitu : ['download (5).jpeg', 'download.jpeg', 'download (7).jpeg', 'download (3).jpeg']\n"
     ]
    }
   ],
   "source": [
    "!mpiexec -n 4 ~/anaconda3/bin/python mpidetect.py"
   ]
  },
  {
   "cell_type": "code",
   "execution_count": 4,
   "metadata": {},
   "outputs": [
    {
     "name": "stdout",
     "output_type": "stream",
     "text": [
      "Sudah disimpan 4 wajah yaitu :  alexandragrant darchy jamesiha christianbale sibiblazic keanureeves billycorgan "
     ]
    }
   ],
   "source": [
    "!mpiexec -n 4 ~/anaconda3/bin/python mpipicklesave.py"
   ]
  },
  {
   "cell_type": "code",
   "execution_count": 5,
   "metadata": {},
   "outputs": [
    {
     "name": "stdout",
     "output_type": "stream",
     "text": [
      "Pada gambar download (9).jpeg ditemukan 3 wajah :  gakenal billycorgan jamesiha \n",
      "Pada gambar download (12).jpeg ditemukan 2 wajah :  keanureeves alexandragrant \n",
      "rank 3 wajah dikenal 4 dan wajah tidak dikenal 1 dari total 5 wajah akurasi 0.80\n",
      "Pada gambar download (8).jpeg ditemukan 3 wajah :  darchy billycorgan jamesiha \n",
      "Pada gambar download (13).jpeg ditemukan 2 wajah :  alexandragrant keanureeves \n",
      "Pada gambar download (11).jpeg ditemukan 2 wajah :  christianbale sibiblazic \n",
      "Pada gambar download (10).jpeg ditemukan 2 wajah :  sibiblazic christianbale \n",
      "rank 2 wajah dikenal 9 dan wajah tidak dikenal 0 dari total 9 wajah akurasi 1.00\n",
      "Pada gambar download (1).jpeg ditemukan 1 wajah :  keanureeves \n",
      "Pada gambar download (6).jpeg ditemukan 1 wajah :  gakenal \n",
      "Pada gambar download (4).jpeg ditemukan 1 wajah :  christianbale \n",
      "Pada gambar download (2).jpeg ditemukan 1 wajah :  keanureeves \n",
      "rank 1 wajah dikenal 3 dan wajah tidak dikenal 1 dari total 4 wajah akurasi 0.75\n",
      "Pada gambar download (5).jpeg ditemukan 1 wajah :  christianbale \n",
      "Pada gambar download.jpeg ditemukan 1 wajah :  keanureeves \n",
      "Pada gambar download (7).jpeg ditemukan 3 wajah :  darchy billycorgan jamesiha \n",
      "Pada gambar download (3).jpeg ditemukan 1 wajah :  christianbale \n",
      "rank 0 wajah dikenal 6 dan wajah tidak dikenal 0 dari total 6 wajah akurasi 1.00\n"
     ]
    }
   ],
   "source": [
    "!mpiexec -n 4 ~/anaconda3/bin/python mpipickleload.py"
   ]
  },
  {
   "cell_type": "code",
   "execution_count": null,
   "metadata": {},
   "outputs": [],
   "source": []
  }
 ],
 "metadata": {
  "kernelspec": {
   "display_name": "Python 3",
   "language": "python",
   "name": "python3"
  },
  "language_info": {
   "codemirror_mode": {
    "name": "ipython",
    "version": 3
   },
   "file_extension": ".py",
   "mimetype": "text/x-python",
   "name": "python",
   "nbconvert_exporter": "python",
   "pygments_lexer": "ipython3",
   "version": "3.7.3"
  }
 },
 "nbformat": 4,
 "nbformat_minor": 2
}

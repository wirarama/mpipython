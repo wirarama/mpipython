{
 "cells": [
  {
   "cell_type": "code",
   "execution_count": 2,
   "metadata": {},
   "outputs": [
    {
     "name": "stdout",
     "output_type": "stream",
     "text": [
      "<class 'list'>\r\n",
      "[[67, -89, 0, 0], [68, -88, 90, 1], [69, -87, 180, 2], [70, -86, 270, 3], [71, -85, 360, 4], [72, -84, 450, 5]]\r\n"
     ]
    }
   ],
   "source": [
    "!mpiexec -n 6 ~/anaconda3/bin/python gather-simple.py"
   ]
  },
  {
   "cell_type": "code",
   "execution_count": 4,
   "metadata": {},
   "outputs": [
    {
     "name": "stdout",
     "output_type": "stream",
     "text": [
      "[[0 0 0 0 0 0 0 0 0 0]\r\n",
      " [1 1 1 1 1 1 1 1 1 1]\r\n",
      " [2 2 2 2 2 2 2 2 2 2]\r\n",
      " [3 3 3 3 3 3 3 3 3 3]\r\n",
      " [4 4 4 4 4 4 4 4 4 4]\r\n",
      " [5 5 5 5 5 5 5 5 5 5]]\r\n"
     ]
    }
   ],
   "source": [
    "!mpiexec -n 6 ~/anaconda3/bin/python gathernumpy.py"
   ]
  },
  {
   "cell_type": "code",
   "execution_count": 5,
   "metadata": {},
   "outputs": [
    {
     "name": "stdout",
     "output_type": "stream",
     "text": [
      "rank 5 data :  [0, 1, 2, 3, 4, 5]\r\n",
      "rank 3 data :  [0, 1, 2, 3, 4, 5]\r\n",
      "rank 2 data :  [0, 1, 2, 3, 4, 5]\r\n",
      "rank 4 data :  [0, 1, 2, 3, 4, 5]\r\n",
      "rank 0 data :  [0, 1, 2, 3, 4, 5]\r\n",
      "rank 1 data :  [0, 1, 2, 3, 4, 5]\r\n"
     ]
    }
   ],
   "source": [
    "!mpiexec -n 6 ~/anaconda3/bin/python allgather.py"
   ]
  },
  {
   "cell_type": "code",
   "execution_count": 6,
   "metadata": {},
   "outputs": [
    {
     "name": "stdout",
     "output_type": "stream",
     "text": [
      "rank 0 recvdata :  [0. 0. 0. 0.]\r\n",
      "rank 1 recvdata :  [1. 2. 3. 4.]\r\n",
      "rank 3 recvdata :  [ 3.  6.  9. 12.]\r\n",
      "rank 2 recvdata :  [2. 4. 6. 8.]\r\n"
     ]
    }
   ],
   "source": [
    "!mpiexec -n 4 ~/anaconda3/bin/python alltoall.py"
   ]
  },
  {
   "cell_type": "code",
   "execution_count": null,
   "metadata": {},
   "outputs": [],
   "source": []
  }
 ],
 "metadata": {
  "kernelspec": {
   "display_name": "Python 3",
   "language": "python",
   "name": "python3"
  },
  "language_info": {
   "codemirror_mode": {
    "name": "ipython",
    "version": 3
   },
   "file_extension": ".py",
   "mimetype": "text/x-python",
   "name": "python",
   "nbconvert_exporter": "python",
   "pygments_lexer": "ipython3",
   "version": "3.7.3"
  }
 },
 "nbformat": 4,
 "nbformat_minor": 2
}

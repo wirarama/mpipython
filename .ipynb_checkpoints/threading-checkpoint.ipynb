{
 "cells": [
  {
   "cell_type": "code",
   "execution_count": null,
   "id": "1364af73",
   "metadata": {},
   "outputs": [],
   "source": [
    "def fungsi(d=[]):\n",
    "    return d[0]+d[1]\n",
    "\n",
    "data = []\n",
    "for i in range(100):\n",
    "    data.append([i,i+5])\n",
    "\n",
    "from multiprocessing.dummy import Pool as ThreadPool\n",
    "pool = ThreadPool(4)\n",
    "results = pool.map(fungsi,data)"
   ]
  }
 ],
 "metadata": {
  "kernelspec": {
   "display_name": "Python 3 (ipykernel)",
   "language": "python",
   "name": "python3"
  },
  "language_info": {
   "codemirror_mode": {
    "name": "ipython",
    "version": 3
   },
   "file_extension": ".py",
   "mimetype": "text/x-python",
   "name": "python",
   "nbconvert_exporter": "python",
   "pygments_lexer": "ipython3",
   "version": "3.11.4"
  }
 },
 "nbformat": 4,
 "nbformat_minor": 5
}

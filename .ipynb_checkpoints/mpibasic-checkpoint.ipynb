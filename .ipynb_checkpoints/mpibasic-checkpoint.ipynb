{
 "cells": [
  {
   "cell_type": "code",
   "execution_count": null,
   "metadata": {},
   "outputs": [],
   "source": [
    "!pip install mpi4py"
   ]
  },
  {
   "cell_type": "code",
   "execution_count": null,
   "metadata": {},
   "outputs": [],
   "source": [
    "!~/anaconda3/bin/pip install --upgrade wheel"
   ]
  },
  {
   "cell_type": "code",
   "execution_count": null,
   "metadata": {},
   "outputs": [],
   "source": [
    "!~/anaconda3/bin/pip install mpi4py"
   ]
  },
  {
   "cell_type": "code",
   "execution_count": null,
   "metadata": {},
   "outputs": [],
   "source": [
    "#simpan sebagai mpihello.py\n",
    "from mpi4py import MPI\n",
    "comm = MPI.COMM_WORLD\n",
    "if comm.rank==0:\n",
    "    print(\"saya boss\")\n",
    "elif comm.rank==4:\n",
    "    print(\"saya anak istimewa\")\n",
    "else:\n",
    "    print(\"saya anak buah no\",comm.rank,\"dari total\",comm.size)"
   ]
  },
  {
   "cell_type": "code",
   "execution_count": 2,
   "metadata": {},
   "outputs": [
    {
     "name": "stdout",
     "output_type": "stream",
     "text": [
      "saya anak buah no 1 dari total 8\n",
      "saya anak buah no 5 dari total 8\n",
      "saya anak buah no 7 dari total 8\n",
      "saya anak buah no 3 dari total 8\n",
      "saya anak istimewa\n",
      "saya anak buah no 2 dari total 8\n",
      "saya anak buah no 6 dari total 8\n",
      "saya boss\n"
     ]
    }
   ],
   "source": [
    "!mpiexec -n 8 python mpihello.py"
   ]
  },
  {
   "cell_type": "code",
   "execution_count": null,
   "metadata": {},
   "outputs": [],
   "source": [
    "from mpi4py import MPI\n",
    "from math import ceil\n",
    "comm = MPI.COMM_WORLD\n",
    "d = [i for i in range(1,100,2)]\n",
    "i = ceil(len(d)/comm.size)\n",
    "j = comm.rank*i\n",
    "if (j+i)>=len(d):\n",
    "    k = len(d)\n",
    "else:\n",
    "    k = j+i\n",
    "print(comm.rank,\"mengerjakan %d %d\" % (j,k),\n",
    "      d[j:k],len(d[j:k]),\"of\",len(d))"
   ]
  },
  {
   "cell_type": "code",
   "execution_count": null,
   "metadata": {},
   "outputs": [],
   "source": [
    "!mpiexec -n 4 python mpibagikerja.py"
   ]
  },
  {
   "cell_type": "code",
   "execution_count": null,
   "metadata": {},
   "outputs": [],
   "source": [
    "from mpi4py import MPI\n",
    "\n",
    "comm = MPI.COMM_WORLD\n",
    "if comm.rank==0:\n",
    "    print(\"Rank %d Kumpulin data\" % (comm.rank))\n",
    "    comm.Barrier()\n",
    "    print(\"Session 1 Rank %d dari %d\" % (comm.rank, comm.size))\n",
    "    comm.Barrier()\n",
    "    print(\"Session 2 Rank %d dari %d\" % (comm.rank, comm.size))\n",
    "    \n",
    "else:\n",
    "    comm.Barrier()\n",
    "    print(\"Session 1 Rank %d dari %d\" % (comm.rank, comm.size))\n",
    "    comm.Barrier()\n",
    "    print(\"Session 2 Rank %d dari %d\" % (comm.rank, comm.size))"
   ]
  },
  {
   "cell_type": "code",
   "execution_count": null,
   "metadata": {},
   "outputs": [],
   "source": [
    "!mpiexec -n 9 ~/anaconda3/bin/python barrier.py"
   ]
  },
  {
   "cell_type": "code",
   "execution_count": null,
   "metadata": {},
   "outputs": [],
   "source": [
    "from mpi4py import MPI\n",
    "\n",
    "comm = MPI.COMM_WORLD\n",
    "rank = comm.rank\n",
    "\n",
    "print(\"rank %d \" % rank,end=\" \")\n",
    "if rank == 0:\n",
    "    c = 45\n",
    "    comm.send(c, dest=1, tag=1)\n",
    "    comm.send([2,3,4], dest=1, tag=2)\n",
    "    comm.send(c, dest=2, tag=1)\n",
    "    print(\"mengirim\")\n",
    "elif rank == 1:\n",
    "    c = comm.recv(source=0, tag=1)\n",
    "    d = comm.recv(source=0, tag=2)\n",
    "    print(\"menerima c: %d d: %s\" % (c,d))\n",
    "elif rank == 2:\n",
    "    c = comm.recv(source=0,tag=1)\n",
    "    print(\"menerima c: %d \" % (c))\n",
    "else:\n",
    "    print(\"nganggur\")\n"
   ]
  },
  {
   "cell_type": "code",
   "execution_count": null,
   "metadata": {},
   "outputs": [],
   "source": [
    "!mpiexec -n 3 ~/anaconda3/bin/python sendrecv-simple.py"
   ]
  },
  {
   "cell_type": "code",
   "execution_count": null,
   "metadata": {},
   "outputs": [],
   "source": [
    "d=3\n",
    "d **= 2\n",
    "print(d)"
   ]
  },
  {
   "cell_type": "code",
   "execution_count": null,
   "metadata": {},
   "outputs": [],
   "source": [
    "!mpiexec -n 5 ~/anaconda3/bin/python sendrecv-adv1b.py"
   ]
  },
  {
   "cell_type": "code",
   "execution_count": null,
   "metadata": {},
   "outputs": [],
   "source": [
    "!mpiexec -n 5 ~/anaconda3/bin/python sendrecv-adv2.py"
   ]
  },
  {
   "cell_type": "code",
   "execution_count": null,
   "metadata": {},
   "outputs": [],
   "source": [
    "!mpiexec -n 7 ~/anaconda3/bin/python bcast-simple.py"
   ]
  },
  {
   "cell_type": "code",
   "execution_count": null,
   "metadata": {},
   "outputs": [],
   "source": [
    "!mpiexec -n 8 ~/anaconda3/bin/python bcast.py"
   ]
  },
  {
   "cell_type": "code",
   "execution_count": null,
   "metadata": {},
   "outputs": [],
   "source": [
    "!mpiexec -n 6 ~/anaconda3/bin/python gather.py"
   ]
  },
  {
   "cell_type": "code",
   "execution_count": null,
   "metadata": {},
   "outputs": [],
   "source": [
    "!mpiexec -n 4 ~/anaconda3/bin/python scatter-simple.py"
   ]
  },
  {
   "cell_type": "code",
   "execution_count": null,
   "metadata": {},
   "outputs": [],
   "source": [
    "!mpiexec -n 5 ~/anaconda3/bin/python mpiio.py"
   ]
  },
  {
   "cell_type": "code",
   "execution_count": null,
   "metadata": {},
   "outputs": [],
   "source": [
    "!mpiexec -n 5 ~/anaconda3/bin/python reduce.py"
   ]
  },
  {
   "cell_type": "code",
   "execution_count": null,
   "metadata": {},
   "outputs": [],
   "source": []
  }
 ],
 "metadata": {
  "kernelspec": {
   "display_name": "Python 3 (ipykernel)",
   "language": "python",
   "name": "python3"
  },
  "language_info": {
   "codemirror_mode": {
    "name": "ipython",
    "version": 3
   },
   "file_extension": ".py",
   "mimetype": "text/x-python",
   "name": "python",
   "nbconvert_exporter": "python",
   "pygments_lexer": "ipython3",
   "version": "3.11.4"
  }
 },
 "nbformat": 4,
 "nbformat_minor": 2
}

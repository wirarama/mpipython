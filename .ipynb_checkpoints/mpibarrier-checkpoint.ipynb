{
 "cells": [
  {
   "cell_type": "code",
   "execution_count": 2,
   "metadata": {},
   "outputs": [
    {
     "name": "stdout",
     "output_type": "stream",
     "text": [
      "Rank 0 Kumpulin data\r\n",
      "Rank 0 Menganggur\r\n",
      "Rank 0 Menganggur\r\n",
      "Session 1 Rank 1 dari 4\r\n",
      "Session 2 Rank 1 dari 4\r\n",
      "Rank 1 Menganggur\r\n",
      "Session 1 Rank 2 dari 4\r\n",
      "Session 2 Rank 2 dari 4\r\n",
      "Rank 2 Upload data\r\n",
      "Session 1 Rank 3 dari 4\r\n",
      "Session 2 Rank 3 dari 4\r\n",
      "Rank 3 Menganggur\r\n"
     ]
    }
   ],
   "source": [
    "!mpiexec -n 4 ~/anaconda3/bin/python barrier.py"
   ]
  },
  {
   "cell_type": "code",
   "execution_count": 5,
   "metadata": {},
   "outputs": [
    {
     "name": "stdout",
     "output_type": "stream",
     "text": [
      "Rank 0 session 1\r\n",
      "Rank 1 session 1\r\n",
      "Rank 3 session 1\r\n",
      "Rank 2 session 1\r\n",
      "Rank 0 session 2\r\n",
      "Rank 2 session 2\r\n",
      "Rank 3 session 2\r\n",
      "Rank 1 session 2\r\n",
      "Rank 0 session 3\r\n",
      "Rank 2 session 3\r\n",
      "Rank 3 session 3\r\n",
      "Rank 1 session 3\r\n"
     ]
    }
   ],
   "source": [
    "!mpiexec -n 4 ~/anaconda3/bin/python barrierev.py"
   ]
  },
  {
   "cell_type": "code",
   "execution_count": 8,
   "metadata": {},
   "outputs": [
    {
     "name": "stdout",
     "output_type": "stream",
     "text": [
      "Rank 0 session 1\r\n",
      "Rank 1 session 1\r\n",
      "Rank 2 session 1\r\n",
      "Rank 3 session 1\r\n",
      "Rank 0 session 2\r\n",
      "Rank 1 session 2\r\n",
      "Rank 2 session 2\r\n",
      "Rank 3 session 2\r\n",
      "Rank 0 session 3\r\n",
      "Rank 1 session 3\r\n",
      "Rank 2 session 3\r\n",
      "Rank 3 session 3\r\n"
     ]
    }
   ],
   "source": [
    "!mpiexec -n 4 ~/anaconda3/bin/python barriernew.py"
   ]
  },
  {
   "cell_type": "code",
   "execution_count": null,
   "metadata": {},
   "outputs": [],
   "source": []
  }
 ],
 "metadata": {
  "kernelspec": {
   "display_name": "Python 3 (ipykernel)",
   "language": "python",
   "name": "python3"
  },
  "language_info": {
   "codemirror_mode": {
    "name": "ipython",
    "version": 3
   },
   "file_extension": ".py",
   "mimetype": "text/x-python",
   "name": "python",
   "nbconvert_exporter": "python",
   "pygments_lexer": "ipython3",
   "version": "3.11.4"
  }
 },
 "nbformat": 4,
 "nbformat_minor": 2
}

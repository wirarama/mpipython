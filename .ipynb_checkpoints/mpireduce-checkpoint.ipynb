{
 "cells": [
  {
   "cell_type": "code",
   "execution_count": 8,
   "metadata": {},
   "outputs": [
    {
     "name": "stdout",
     "output_type": "stream",
     "text": [
      "rank 0 SUM :  [1, 11, 2, 78, 3, 54, 4, 8]\n",
      "rank 0 MIN :  [1, 11]\n",
      "rank 0 MAX :  [4, 8]\n",
      "rank 0 MAXLOC :  ('f213', 4)\n",
      "rank 0 MINLOC :  ('f210', 1)\n"
     ]
    }
   ],
   "source": [
    "!mpiexec -n 4 python reduce.py"
   ]
  },
  {
   "cell_type": "code",
   "execution_count": 9,
   "metadata": {},
   "outputs": [
    {
     "name": "stdout",
     "output_type": "stream",
     "text": [
      "rank 0 SUM :  [0, 0, 0, 0, 1, 1, 1, 1, 2, 2, 2, 2, 3, 3, 3, 3]\n",
      "rank 0 MIN :  [0, 0, 0, 0]\n",
      "rank 0 MAX :  [3, 3, 3, 3]\n"
     ]
    }
   ],
   "source": [
    "!mpiexec -n 4 python reducearray.py"
   ]
  },
  {
   "cell_type": "code",
   "execution_count": 10,
   "metadata": {},
   "outputs": [
    {
     "name": "stdout",
     "output_type": "stream",
     "text": [
      "rank 3 data :  True\n",
      "rank 1 data :  False\n",
      "rank 2 data :  False\n",
      "rank 0 data :  False\n",
      "rank 0 LAND :  False\n",
      "rank 0 LOR :  True\n",
      "rank 0 BAND :  False\n",
      "rank 0 BOR :  True\n"
     ]
    }
   ],
   "source": [
    "!mpiexec -n 4 python reduce-logic.py"
   ]
  },
  {
   "cell_type": "code",
   "execution_count": 11,
   "metadata": {},
   "outputs": [
    {
     "name": "stdout",
     "output_type": "stream",
     "text": [
      "rank 3 data :  6\n",
      "rank 1 data :  6\n",
      "rank 2 data :  6\n",
      "rank 0 data :  6\n"
     ]
    }
   ],
   "source": [
    "!mpiexec -n 4 python allreduce.py"
   ]
  },
  {
   "cell_type": "code",
   "execution_count": 6,
   "metadata": {},
   "outputs": [
    {
     "name": "stdout",
     "output_type": "stream",
     "text": [
      "rank 1 senddata :  [ 0  2  4  6  8 10 12 14 16 18 20 22]\r\n",
      "rank 1 recvdata :  [30 40 50]\r\n",
      "rank 0 senddata :  [ 0  1  2  3  4  5  6  7  8  9 10 11]\r\n",
      "rank 0 recvdata :  [ 0 10 20]\r\n",
      "rank 3 senddata :  [ 0  4  8 12 16 20 24 28 32 36 40 44]\r\n",
      "rank 3 recvdata :  [ 90 100 110]\r\n",
      "rank 2 senddata :  [ 0  3  6  9 12 15 18 21 24 27 30 33]\r\n",
      "rank 2 recvdata :  [60 70 80]\r\n"
     ]
    }
   ],
   "source": [
    "!mpiexec -n 4 ~/anaconda3/bin/python reducescatter.py"
   ]
  },
  {
   "cell_type": "code",
   "execution_count": 32,
   "metadata": {},
   "outputs": [
    {
     "name": "stdout",
     "output_type": "stream",
     "text": [
      "52800000\n"
     ]
    }
   ],
   "source": [
    "!mpiexec -n 32 python reducefunc.py"
   ]
  },
  {
   "cell_type": "code",
   "execution_count": 19,
   "metadata": {},
   "outputs": [
    {
     "data": {
      "text/plain": [
       "100"
      ]
     },
     "execution_count": 19,
     "metadata": {},
     "output_type": "execute_result"
    }
   ],
   "source": [
    "def test(d=[]):\n",
    "    out = 0\n",
    "    for i in d:\n",
    "        out += i*10\n",
    "    return out\n",
    "test([1,2,3,4])"
   ]
  },
  {
   "cell_type": "code",
   "execution_count": 25,
   "metadata": {},
   "outputs": [
    {
     "name": "stdout",
     "output_type": "stream",
     "text": [
      "4950\n"
     ]
    }
   ],
   "source": [
    "import functools \n",
    "\n",
    "lis = [i for i in range(100)] \n",
    "\n",
    "print(functools.reduce(lambda a, b: a+b, lis)) "
   ]
  },
  {
   "cell_type": "code",
   "execution_count": 26,
   "metadata": {},
   "outputs": [
    {
     "data": {
      "text/plain": [
       "4950"
      ]
     },
     "execution_count": 26,
     "metadata": {},
     "output_type": "execute_result"
    }
   ],
   "source": [
    "def test(a,b):\n",
    "    return (a+b)*10\n",
    "functools.reduce(test, lis)"
   ]
  },
  {
   "cell_type": "code",
   "execution_count": null,
   "metadata": {},
   "outputs": [],
   "source": []
  }
 ],
 "metadata": {
  "kernelspec": {
   "display_name": "Python 3 (ipykernel)",
   "language": "python",
   "name": "python3"
  },
  "language_info": {
   "codemirror_mode": {
    "name": "ipython",
    "version": 3
   },
   "file_extension": ".py",
   "mimetype": "text/x-python",
   "name": "python",
   "nbconvert_exporter": "python",
   "pygments_lexer": "ipython3",
   "version": "3.11.4"
  }
 },
 "nbformat": 4,
 "nbformat_minor": 2
}
